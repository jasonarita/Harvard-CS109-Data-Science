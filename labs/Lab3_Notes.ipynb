{
 "cells": [
  {
   "cell_type": "code",
   "execution_count": 3,
   "metadata": {
    "collapsed": false
   },
   "outputs": [],
   "source": [
    "# special IPython command to prepare the notebook for matplotlib\n",
    "%matplotlib inline \n",
    "\n",
    "import pandas as pd\n",
    "import matplotlib.pyplot as plt\n",
    "\n",
    "pd.options.display.mpl_style = 'default'"
   ]
  },
  {
   "cell_type": "markdown",
   "metadata": {},
   "source": [
    "## Recall from from lab last week 09/12/2014\n",
    "\n",
    "Previously discussed: \n",
    "\n",
    "* Reading in a CSV file into a pandas DataFrame\n",
    "* Using histograms, scatterplots and boxplots as exploratory data analysis\n",
    "* Summary statistics\n",
    "* Functions to access a pandas DataFrame\n",
    "* Defining your own functions and using loops"
   ]
  },
  {
   "cell_type": "markdown",
   "metadata": {},
   "source": [
    "## Today, we will discuss the following:\n",
    "* Brief introduction to Numpy, Scipy\n",
    "    * Vectorizing functions\n",
    "* More pandas and matplotlib\n",
    "* Working in the command line\n",
    "* Overview of git and Github\n",
    "\n",
    "<a href=https://raw.githubusercontent.com/cs109/2014/master/labs/Lab3_Notes.ipynb download=Lab3_Notes.ipynb> Download this notebook from Github </a>"
   ]
  },
  {
   "cell_type": "markdown",
   "metadata": {},
   "source": [
    "## Numpy\n",
    "\n",
    "NumPy and SciPy are modules in Python for scientific computing.  [NumPy](http://www.numpy.org) lets you do fast, vectorized operations on arrays.  Why use this module?  \n",
    "\n",
    "* It gives you the performance of using low-level code (e.g. C or Fortran) with the benefit of writing the code in an interpreted scripting language (all while keeping the native Python code). \n",
    "* It gives you a fast, memory-efficient multidimensional array called `ndarray` which allows you perform vectorized operations on (and supports mathematical functions such as linear algebra and random number generation)"
   ]
  },
  {
   "cell_type": "code",
   "execution_count": 2,
   "metadata": {
    "collapsed": false
   },
   "outputs": [],
   "source": [
    "# Import NumPy\n",
    "import numpy as np"
   ]
  },
  {
   "cell_type": "markdown",
   "metadata": {},
   "source": [
    "To create a fast, multidimensional `ndarray` object, use the `np.array()` method on a python `list` or `tuple` or reading data from files. "
   ]
  },
  {
   "cell_type": "code",
   "execution_count": 3,
   "metadata": {
    "collapsed": false
   },
   "outputs": [
    {
     "data": {
      "text/plain": [
       "array([1, 2, 3, 4])"
      ]
     },
     "execution_count": 3,
     "metadata": {},
     "output_type": "execute_result"
    }
   ],
   "source": [
    "x = np.array([1,2,3,4])\n",
    "y = np.array([[1,2], [3,4]])\n",
    "x"
   ]
  },
  {
   "cell_type": "code",
   "execution_count": 4,
   "metadata": {
    "collapsed": false
   },
   "outputs": [
    {
     "data": {
      "text/plain": [
       "array([[1, 2],\n",
       "       [3, 4]])"
      ]
     },
     "execution_count": 4,
     "metadata": {},
     "output_type": "execute_result"
    }
   ],
   "source": [
    "y"
   ]
  },
  {
   "cell_type": "code",
   "execution_count": 5,
   "metadata": {
    "collapsed": false
   },
   "outputs": [
    {
     "data": {
      "text/plain": [
       "numpy.ndarray"
      ]
     },
     "execution_count": 5,
     "metadata": {},
     "output_type": "execute_result"
    }
   ],
   "source": [
    "type(x)"
   ]
  },
  {
   "cell_type": "markdown",
   "metadata": {},
   "source": [
    "#### Properties of NumPy arrays\n",
    "There are a set of properties about the `ndarray` object such the dimensions, the size, etc.  \n",
    "\n",
    "Property | Description\n",
    "--- | ----\n",
    "`y.shape` (or `shape(y)` | Shape or dimension of the array\n",
    "`y.size` (or `size(y)`) | Number of elements in the array \n",
    "`y.ndim` | number of dimensions \n"
   ]
  },
  {
   "cell_type": "code",
   "execution_count": 6,
   "metadata": {
    "collapsed": false
   },
   "outputs": [
    {
     "name": "stdout",
     "output_type": "stream",
     "text": [
      "(4,)\n",
      "4\n",
      "1\n"
     ]
    }
   ],
   "source": [
    "print x.shape\n",
    "print x.size\n",
    "print x.ndim"
   ]
  },
  {
   "cell_type": "code",
   "execution_count": 7,
   "metadata": {
    "collapsed": false
   },
   "outputs": [
    {
     "name": "stdout",
     "output_type": "stream",
     "text": [
      "(2, 2)\n",
      "4\n",
      "2\n"
     ]
    }
   ],
   "source": [
    "print y.shape\n",
    "print y.size\n",
    "print y.ndim"
   ]
  },
  {
   "cell_type": "markdown",
   "metadata": {},
   "source": [
    "#### Other ways to generate NumPy arrays\n",
    "\n",
    "Function | Description\n",
    "--- | ---\n",
    "`np.arange(start,stop,step)` | Create a range between the start and stop arguments\n",
    "`np.linspace(start,stop,num)` | Create a range between start and stop (both ends included) of length num\n",
    "`np.logspace(start, stop,num,base)` | Create a range in the log space with a define base of length num\n",
    "`np.eye(n)` | Generate an n x n identity matrix"
   ]
  },
  {
   "cell_type": "code",
   "execution_count": 8,
   "metadata": {
    "collapsed": false
   },
   "outputs": [
    {
     "data": {
      "text/plain": [
       "array([ 0,  2,  4,  6,  8, 10, 12, 14, 16, 18, 20])"
      ]
     },
     "execution_count": 8,
     "metadata": {},
     "output_type": "execute_result"
    }
   ],
   "source": [
    "np.arange(0, 21, 2)"
   ]
  },
  {
   "cell_type": "code",
   "execution_count": 9,
   "metadata": {
    "collapsed": false
   },
   "outputs": [
    {
     "data": {
      "text/plain": [
       "array([ 0,  2,  4,  6,  8, 10, 12, 14, 16, 18])"
      ]
     },
     "execution_count": 9,
     "metadata": {},
     "output_type": "execute_result"
    }
   ],
   "source": [
    "# Try it: Create a numpy array from 0 to 20 in steps of size 2\n",
    "np.arange(0, 20, 2)"
   ]
  },
  {
   "cell_type": "code",
   "execution_count": 10,
   "metadata": {
    "collapsed": false
   },
   "outputs": [
    {
     "data": {
      "text/plain": [
       "array([-10. ,  -9.5,  -9. ,  -8.5,  -8. ,  -7.5,  -7. ,  -6.5,  -6. ,\n",
       "        -5.5,  -5. ,  -4.5,  -4. ,  -3.5,  -3. ,  -2.5,  -2. ,  -1.5,\n",
       "        -1. ,  -0.5,   0. ,   0.5,   1. ,   1.5,   2. ,   2.5,   3. ,\n",
       "         3.5,   4. ,   4.5,   5. ,   5.5,   6. ,   6.5,   7. ,   7.5,\n",
       "         8. ,   8.5,   9. ,   9.5,  10. ])"
      ]
     },
     "execution_count": 10,
     "metadata": {},
     "output_type": "execute_result"
    }
   ],
   "source": [
    "# Try it: Create a numpy array from -10 to 10 in steps of 0.5 (INCLUDING the number 10)\n",
    "np.arange(-10, 10.5, 0.5)"
   ]
  },
  {
   "cell_type": "code",
   "execution_count": 11,
   "metadata": {
    "collapsed": false
   },
   "outputs": [
    {
     "data": {
      "text/plain": [
       "array([  100.,   200.,   300.,   400.,   500.,   600.,   700.,   800.,\n",
       "         900.,  1000.])"
      ]
     },
     "execution_count": 11,
     "metadata": {},
     "output_type": "execute_result"
    }
   ],
   "source": [
    "# Try it: Create a numpy array from 100 to 1000 of length 10\n",
    "np.linspace(100, 1000, 10)"
   ]
  },
  {
   "cell_type": "markdown",
   "metadata": {},
   "source": [
    "In addition, the `numpy.random` module can be used to create arrays using a random number generation "
   ]
  },
  {
   "cell_type": "code",
   "execution_count": 12,
   "metadata": {
    "collapsed": false
   },
   "outputs": [],
   "source": [
    "from numpy import random"
   ]
  },
  {
   "cell_type": "markdown",
   "metadata": {},
   "source": [
    "Function | Description\n",
    "--- | ---\n",
    "`np.random.randint(a, b, N)` | Generate N random integers between a and b\n",
    "`np.random.rand(n, m)` | Generate uniform random numbers in [0,1] of dim n x m\n",
    "`np.random.randn(n, m)` | Generate standard normal random numbers of dim n x m\n"
   ]
  },
  {
   "cell_type": "code",
   "execution_count": 13,
   "metadata": {
    "collapsed": false
   },
   "outputs": [
    {
     "data": {
      "text/plain": [
       "array([17, 10, 27, 29, 42, 25, 38,  4,  6, 66, 54, 81, 16, 40, 32, 74, 44,\n",
       "       43, 89, 90, 15, 53, 68, 55, 36, 91, 60, 35, 60, 86, 87, 43, 27, 57,\n",
       "       18, 24, 80, 85, 82, 21, 62, 51, 56, 32, 38, 87, 52, 50, 82, 71])"
      ]
     },
     "execution_count": 13,
     "metadata": {},
     "output_type": "execute_result"
    }
   ],
   "source": [
    "np.random.randint(1, 100, 50)"
   ]
  },
  {
   "cell_type": "code",
   "execution_count": 14,
   "metadata": {
    "collapsed": false
   },
   "outputs": [
    {
     "data": {
      "text/plain": [
       "array([[ 0.92938112,  1.05969214, -0.45384661, -0.3986194 ],\n",
       "       [-0.22447324, -1.15888599,  1.75928418, -0.95056342],\n",
       "       [-0.64783012, -0.62273374, -1.91154055, -0.45420394],\n",
       "       [-0.79290815, -0.47969263,  0.12161549, -0.35013773]])"
      ]
     },
     "execution_count": 14,
     "metadata": {},
     "output_type": "execute_result"
    }
   ],
   "source": [
    "# Try it: Create a numpy array filled with random samples \n",
    "# from a normal distribution of size 4 x 4\n",
    "np.random.randn(4, 4)"
   ]
  },
  {
   "cell_type": "markdown",
   "metadata": {},
   "source": [
    "#### Reshaping, resizing and stacking NumPy arrays\n",
    "\n",
    "To reshape an array, use `reshape()`:"
   ]
  },
  {
   "cell_type": "code",
   "execution_count": 15,
   "metadata": {
    "collapsed": false
   },
   "outputs": [
    {
     "data": {
      "text/plain": [
       "array([[ 0.34653123,  0.76444585,  0.83392588,  0.89994653],\n",
       "       [ 0.85965805,  0.26990925,  0.54748407,  0.18907704],\n",
       "       [ 0.05772485,  0.01055508,  0.90566662,  0.77254983],\n",
       "       [ 0.05300589,  0.71730926,  0.08518662,  0.67045154]])"
      ]
     },
     "execution_count": 15,
     "metadata": {},
     "output_type": "execute_result"
    }
   ],
   "source": [
    "z = np.random.rand(4,4)\n",
    "z "
   ]
  },
  {
   "cell_type": "code",
   "execution_count": 16,
   "metadata": {
    "collapsed": false
   },
   "outputs": [
    {
     "data": {
      "text/plain": [
       "(4, 4)"
      ]
     },
     "execution_count": 16,
     "metadata": {},
     "output_type": "execute_result"
    }
   ],
   "source": [
    "z.shape"
   ]
  },
  {
   "cell_type": "code",
   "execution_count": 17,
   "metadata": {
    "collapsed": false
   },
   "outputs": [
    {
     "data": {
      "text/plain": [
       "array([[ 0.34653123,  0.76444585],\n",
       "       [ 0.83392588,  0.89994653],\n",
       "       [ 0.85965805,  0.26990925],\n",
       "       [ 0.54748407,  0.18907704],\n",
       "       [ 0.05772485,  0.01055508],\n",
       "       [ 0.90566662,  0.77254983],\n",
       "       [ 0.05300589,  0.71730926],\n",
       "       [ 0.08518662,  0.67045154]])"
      ]
     },
     "execution_count": 17,
     "metadata": {},
     "output_type": "execute_result"
    }
   ],
   "source": [
    "z.reshape((8,2)) # dim is now 8 x 2"
   ]
  },
  {
   "cell_type": "markdown",
   "metadata": {},
   "source": [
    "To flatten an array (convert a higher dimensional array into a vector), use `flatten()`"
   ]
  },
  {
   "cell_type": "code",
   "execution_count": 18,
   "metadata": {
    "collapsed": false
   },
   "outputs": [
    {
     "data": {
      "text/plain": [
       "array([ 0.34653123,  0.76444585,  0.83392588,  0.89994653,  0.85965805,\n",
       "        0.26990925,  0.54748407,  0.18907704,  0.05772485,  0.01055508,\n",
       "        0.90566662,  0.77254983,  0.05300589,  0.71730926,  0.08518662,\n",
       "        0.67045154])"
      ]
     },
     "execution_count": 18,
     "metadata": {},
     "output_type": "execute_result"
    }
   ],
   "source": [
    "z.flatten()"
   ]
  },
  {
   "cell_type": "markdown",
   "metadata": {},
   "source": [
    "## Operating on NumPy arrays\n",
    "\n",
    "#### Assigning values\n",
    "To assign values to a specific element in a `ndarray`, use the assignment operator. "
   ]
  },
  {
   "cell_type": "code",
   "execution_count": 19,
   "metadata": {
    "collapsed": false
   },
   "outputs": [
    {
     "data": {
      "text/plain": [
       "(2, 2)"
      ]
     },
     "execution_count": 19,
     "metadata": {},
     "output_type": "execute_result"
    }
   ],
   "source": [
    "y = np.array([[1,2], [3,4]])\n",
    "y.shape"
   ]
  },
  {
   "cell_type": "code",
   "execution_count": 20,
   "metadata": {
    "collapsed": false
   },
   "outputs": [
    {
     "data": {
      "text/plain": [
       "array([[10,  2],\n",
       "       [ 3,  4]])"
      ]
     },
     "execution_count": 20,
     "metadata": {},
     "output_type": "execute_result"
    }
   ],
   "source": [
    "y[0,0] = 10\n",
    "y "
   ]
  },
  {
   "cell_type": "markdown",
   "metadata": {},
   "source": [
    "#### Indexing and slicing arrays\n",
    "To extract elements of the NumPy arrays, use the bracket operator and the slice (i.e. colon) operator.  To slice specific elements in the array, use `dat[lower:upper:step]`. To extract the diagonal (and subdiagonal) elements, use `diag()`. "
   ]
  },
  {
   "cell_type": "code",
   "execution_count": 21,
   "metadata": {
    "collapsed": false
   },
   "outputs": [
    {
     "data": {
      "text/plain": [
       "array([[ 0.95560513,  0.04580851,  0.44582471,  0.3198993 ],\n",
       "       [ 0.98383006,  0.31996911,  0.59446871,  0.83319625],\n",
       "       [ 0.87715866,  0.93492286,  0.94011154,  0.7859516 ],\n",
       "       [ 0.65069508,  0.19480887,  0.02770529,  0.449675  ]])"
      ]
     },
     "execution_count": 21,
     "metadata": {},
     "output_type": "execute_result"
    }
   ],
   "source": [
    " # random samples from a uniform distribution between 0 and 1\n",
    "dat = np.random.rand(4,4)\n",
    "dat"
   ]
  },
  {
   "cell_type": "code",
   "execution_count": 22,
   "metadata": {
    "collapsed": false
   },
   "outputs": [
    {
     "data": {
      "text/plain": [
       "array([ 0.95560513,  0.04580851,  0.44582471,  0.3198993 ])"
      ]
     },
     "execution_count": 22,
     "metadata": {},
     "output_type": "execute_result"
    }
   ],
   "source": [
    "dat[0, :] # row 1"
   ]
  },
  {
   "cell_type": "code",
   "execution_count": 23,
   "metadata": {
    "collapsed": false
   },
   "outputs": [
    {
     "data": {
      "text/plain": [
       "array([ 0.95560513,  0.98383006,  0.87715866,  0.65069508])"
      ]
     },
     "execution_count": 23,
     "metadata": {},
     "output_type": "execute_result"
    }
   ],
   "source": [
    "dat[:, 0] # column 1"
   ]
  },
  {
   "cell_type": "code",
   "execution_count": 24,
   "metadata": {
    "collapsed": false
   },
   "outputs": [
    {
     "data": {
      "text/plain": [
       "array([ 0.95560513,  0.87715866])"
      ]
     },
     "execution_count": 24,
     "metadata": {},
     "output_type": "execute_result"
    }
   ],
   "source": [
    "dat[0:3:2, 0] # first and third elements in column 1"
   ]
  },
  {
   "cell_type": "code",
   "execution_count": 25,
   "metadata": {
    "collapsed": false
   },
   "outputs": [
    {
     "data": {
      "text/plain": [
       "array([ 0.95560513,  0.31996911,  0.94011154,  0.449675  ])"
      ]
     },
     "execution_count": 25,
     "metadata": {},
     "output_type": "execute_result"
    }
   ],
   "source": [
    "np.diag(dat) # diagonal"
   ]
  },
  {
   "cell_type": "code",
   "execution_count": 26,
   "metadata": {
    "collapsed": false
   },
   "outputs": [
    {
     "data": {
      "text/plain": [
       "array([[ 0,  1,  2,  3],\n",
       "       [ 4,  5,  6,  7],\n",
       "       [ 8,  9, 10, 11],\n",
       "       [12, 13, 14, 15],\n",
       "       [16, 17, 18, 19],\n",
       "       [20, 21, 22, 23],\n",
       "       [24, 25, 26, 27],\n",
       "       [28, 29, 30, 31]])"
      ]
     },
     "execution_count": 26,
     "metadata": {},
     "output_type": "execute_result"
    }
   ],
   "source": [
    "np.arange(32).reshape((8, 4)) # returns an 8 x 4 array"
   ]
  },
  {
   "cell_type": "code",
   "execution_count": 27,
   "metadata": {
    "collapsed": false
   },
   "outputs": [
    {
     "ename": "ValueError",
     "evalue": "invalid number of arguments",
     "output_type": "error",
     "traceback": [
      "\u001b[0;31m---------------------------------------------------------------------------\u001b[0m",
      "\u001b[0;31mValueError\u001b[0m                                Traceback (most recent call last)",
      "\u001b[0;32m<ipython-input-27-7f567ffa57be>\u001b[0m in \u001b[0;36m<module>\u001b[0;34m()\u001b[0m\n\u001b[1;32m      1\u001b[0m \u001b[0mx\u001b[0m\u001b[0;34m[\u001b[0m\u001b[0;36m0\u001b[0m\u001b[0;34m]\u001b[0m \u001b[0;31m# returns the first row\u001b[0m\u001b[0;34m\u001b[0m\u001b[0m\n\u001b[1;32m      2\u001b[0m \u001b[0;31m# x\u001b[0m\u001b[0;34m\u001b[0m\u001b[0;34m\u001b[0m\u001b[0m\n\u001b[0;32m----> 3\u001b[0;31m \u001b[0mnp\u001b[0m\u001b[0;34m.\u001b[0m\u001b[0mmaximum\u001b[0m\u001b[0;34m(\u001b[0m\u001b[0mnp\u001b[0m\u001b[0;34m.\u001b[0m\u001b[0msign\u001b[0m\u001b[0;34m(\u001b[0m\u001b[0;34m-\u001b[0m\u001b[0;36m10\u001b[0m\u001b[0;34m,\u001b[0m\u001b[0;36m10\u001b[0m\u001b[0;34m,\u001b[0m\u001b[0;36m2\u001b[0m\u001b[0;34m)\u001b[0m\u001b[0;34m)\u001b[0m\u001b[0;34m\u001b[0m\u001b[0m\n\u001b[0m",
      "\u001b[0;31mValueError\u001b[0m: invalid number of arguments"
     ]
    }
   ],
   "source": [
    "x[0] # returns the first row\n",
    "# x\n",
    "np.maximum(np.sign(-10,10,2))"
   ]
  },
  {
   "cell_type": "markdown",
   "metadata": {},
   "source": [
    "#### Element-wise transformations on arrays\n",
    "There are many vectorized wrappers that take in one scalar and produce one ore more scalars (e.g. `np.exp()`, `np.sqrt()`). This element-wise array methods are also known as NumPy `ufuncs`. \n",
    "\n",
    "Function | Description \n",
    "--- | --- \n",
    "`np.abs(x)` | absolute value of each element\n",
    "`np.sqrt(x)` | square root of each element\n",
    "`np.square(x)` | square of each element\n",
    "`np.exp(x)` | exponential of each element\n",
    "`np.maximum(x, y)` | element-wise maximum from two arrays x and y\n",
    "`np.minimum(x,y)` | element-wise minimum\n",
    "`np.sign(x)` | compute the sign of each element: 1 (pos), 0 (zero), -1 (neg)\n",
    "`np.subtract(x, y)` | subtract elements in y from elements in x\n",
    "`np.power(x, y)` | raise elements in first array x to powers in second array y\n",
    "`np.where(cond, x, y)` | ifelse statement\n",
    "\n"
   ]
  },
  {
   "cell_type": "markdown",
   "metadata": {},
   "source": [
    "## Vectorizing functions\n",
    "\n",
    "It is important to state again that you should avoid looping through elements in vectors if at all possible.  One way to get around that when writing functions is to use what are called **vectorized functions**.  Say you wrote a function `f` which accepts some input `x` and checks if `x` is bigger or smaller than 0.  \n"
   ]
  },
  {
   "cell_type": "code",
   "execution_count": 28,
   "metadata": {
    "collapsed": false
   },
   "outputs": [
    {
     "name": "stdout",
     "output_type": "stream",
     "text": [
      "True\n"
     ]
    }
   ],
   "source": [
    "def f(x):\n",
    "    if x >=0:\n",
    "        return True\n",
    "    else:\n",
    "        return False\n",
    "\n",
    "print f(3)"
   ]
  },
  {
   "cell_type": "markdown",
   "metadata": {},
   "source": [
    "If we give the function an array instead of just one value (e.g. 3), then Python will give an error because there is more than one element in `x`.  The way to get around this is to **vectorize** the function.  "
   ]
  },
  {
   "cell_type": "code",
   "execution_count": 29,
   "metadata": {
    "collapsed": false
   },
   "outputs": [
    {
     "data": {
      "text/plain": [
       "array([-5, -4, -3, -2, -1,  0,  1,  2,  3,  4,  5])"
      ]
     },
     "execution_count": 29,
     "metadata": {},
     "output_type": "execute_result"
    }
   ],
   "source": [
    "f_vec = np.vectorize(f)\n",
    "z = np.arange(-5, 6)\n",
    "z "
   ]
  },
  {
   "cell_type": "code",
   "execution_count": 32,
   "metadata": {
    "collapsed": false
   },
   "outputs": [
    {
     "data": {
      "text/plain": [
       "array([False, False, False, False, False,  True,  True,  True,  True,\n",
       "        True,  True], dtype=bool)"
      ]
     },
     "execution_count": 32,
     "metadata": {},
     "output_type": "execute_result"
    }
   ],
   "source": [
    "f_vec(z)\n"
   ]
  },
  {
   "cell_type": "markdown",
   "metadata": {},
   "source": [
    "Instead of vectorizing the function, you can also make the function itself aware that it will be accepting vectors from the beginning. "
   ]
  },
  {
   "cell_type": "code",
   "execution_count": 35,
   "metadata": {
    "collapsed": false
   },
   "outputs": [
    {
     "name": "stdout",
     "output_type": "stream",
     "text": [
      "True\n"
     ]
    },
    {
     "data": {
      "text/plain": [
       "array([False, False, False, False, False,  True,  True,  True,  True,  True], dtype=bool)"
      ]
     },
     "execution_count": 35,
     "metadata": {},
     "output_type": "execute_result"
    }
   ],
   "source": [
    "def f(x):\n",
    "    return (x >=0)\n",
    "\n",
    "print f(3)\n"
   ]
  },
  {
   "cell_type": "markdown",
   "metadata": {},
   "source": [
    "# Scipy"
   ]
  },
  {
   "cell_type": "markdown",
   "metadata": {},
   "source": [
    "Now that you know a little bit about [NumPy](numpy.html) and SciPy is a collection of mathematical and scientific modules built on top of NumPy.  For example, SciPy can handle multidimensional arrays, integration, linear algebra, statistics and optimization.  "
   ]
  },
  {
   "cell_type": "code",
   "execution_count": 32,
   "metadata": {
    "collapsed": false
   },
   "outputs": [],
   "source": [
    "# Import SciPy\n",
    "import scipy"
   ]
  },
  {
   "cell_type": "markdown",
   "metadata": {},
   "source": [
    "SciPy includes most of NumPy, so importing SciPy should be generally OK. The main SciPy module is made up of many [submodules containing specialized topics](http://docs.scipy.org/doc/scipy/reference/). \n",
    "\n",
    "Favorite SciPy submodules | What does it contain? \n",
    "--- | --- \n",
    "`scipy.stats` | [statistics](http://docs.scipy.org/doc/scipy/reference/tutorial/stats.html): random variables, probability density functions, cumulative distribution functions, survival functions\n",
    "`scipy.integrate` | [integration](http://docs.scipy.org/doc/scipy/reference/tutorial/integrate.html): single, double, triple integration, trapezoidal rule, Simpson's rule, differential equation solvers\n",
    "`scipy.signal` | [signal processing tools](http://docs.scipy.org/doc/scipy/reference/signal.html): signal processing tools such as wavelets, spectral densities, filters, B-splines\n",
    "`scipy.optimize` | [optimization](http://docs.scipy.org/doc/scipy/reference/optimize.html): find roots, curve fitting, least squares, etc \n",
    "`scipy.special` | [special functions](http://docs.scipy.org/doc/scipy/reference/tutorial/special.html): very specialized functions in mathematical physics e.g. bessel, gamma\n",
    "`scipy.linalg` | [linear algebra](http://docs.scipy.org/doc/scipy/reference/linalg.html): inverse of a matrix, determinant, Kronecker product, eigenvalue decomposition, SVD, functions for matrices (beyond those in `numpy.linalg`)\n",
    "\n",
    "If you want to import a SciPy submodule (e.g. the statistics submodule `scipy.stats`), use "
   ]
  },
  {
   "cell_type": "code",
   "execution_count": 33,
   "metadata": {
    "collapsed": false
   },
   "outputs": [],
   "source": [
    "from scipy import stats"
   ]
  },
  {
   "cell_type": "markdown",
   "metadata": {},
   "source": [
    "#### scipy.stats \n",
    "Let's dive a bit deeper in `scipy.stats`. The real utility of this submodule is to access probability distributions functions (pdfs) and standard statistical tests (e.g. $t$-test).  \n",
    "\n",
    "#### Probability distribution functions\n",
    "There is a large collection of [continuous and discrete pdfs](http://docs.scipy.org/doc/scipy/reference/stats.html) in the `scipy.stats` submodule.  The syntax to simulate random variables from a specific pdf is the name of the distribution  followed by `.rvs`. To generate $n$=10 $N(0,1)$ random variables, "
   ]
  },
  {
   "cell_type": "code",
   "execution_count": 2,
   "metadata": {
    "collapsed": false
   },
   "outputs": [
    {
     "ename": "NameError",
     "evalue": "name 'plt' is not defined",
     "output_type": "error",
     "traceback": [
      "\u001b[0;31m---------------------------------------------------------------------------\u001b[0m",
      "\u001b[0;31mNameError\u001b[0m                                 Traceback (most recent call last)",
      "\u001b[0;32m<ipython-input-2-461196960f8d>\u001b[0m in \u001b[0;36m<module>\u001b[0;34m()\u001b[0m\n\u001b[1;32m      1\u001b[0m \u001b[0;32mfrom\u001b[0m \u001b[0mscipy\u001b[0m\u001b[0;34m.\u001b[0m\u001b[0mstats\u001b[0m \u001b[0;32mimport\u001b[0m \u001b[0mnorm\u001b[0m\u001b[0;34m\u001b[0m\u001b[0m\n\u001b[1;32m      2\u001b[0m \u001b[0mx\u001b[0m \u001b[0;34m=\u001b[0m \u001b[0mnorm\u001b[0m\u001b[0;34m.\u001b[0m\u001b[0mrvs\u001b[0m\u001b[0;34m(\u001b[0m\u001b[0mloc\u001b[0m \u001b[0;34m=\u001b[0m \u001b[0;36m0\u001b[0m\u001b[0;34m,\u001b[0m \u001b[0mscale\u001b[0m \u001b[0;34m=\u001b[0m \u001b[0;36m1\u001b[0m\u001b[0;34m,\u001b[0m \u001b[0msize\u001b[0m \u001b[0;34m=\u001b[0m \u001b[0;36m1000\u001b[0m\u001b[0;34m)\u001b[0m\u001b[0;34m\u001b[0m\u001b[0m\n\u001b[0;32m----> 3\u001b[0;31m \u001b[0mplt\u001b[0m\u001b[0;34m.\u001b[0m\u001b[0mhist\u001b[0m\u001b[0;34m(\u001b[0m\u001b[0mx\u001b[0m\u001b[0;34m)\u001b[0m\u001b[0;34m\u001b[0m\u001b[0m\n\u001b[0m\u001b[1;32m      4\u001b[0m \u001b[0mplt\u001b[0m\u001b[0;34m.\u001b[0m\u001b[0mtitle\u001b[0m\u001b[0;34m(\u001b[0m\u001b[0;34m'Histogram of 1000 normal random variables'\u001b[0m\u001b[0;34m)\u001b[0m\u001b[0;34m\u001b[0m\u001b[0m\n",
      "\u001b[0;31mNameError\u001b[0m: name 'plt' is not defined"
     ]
    }
   ],
   "source": [
    "from scipy.stats import norm\n",
    "x = norm.rvs(loc = 0, scale = 1, size = 1000)\n",
    "plt.hist(x)\n",
    "plt.title('Histogram of 1000 normal random variables')"
   ]
  },
  {
   "cell_type": "markdown",
   "metadata": {},
   "source": [
    "# More Pandas and Matplotlib\n",
    "\n",
    "## Motor Trend Car Road Tests Data\n",
    "\n",
    "The data was extracted from the 1974 Motor Trend US magazine, and comprises fuel consumption and 10 aspects of automobile design and performance for 32 automobiles (1973–74 models). This dataset is available on Github in the [2014_data repository](https://github.com/cs109/2014_data) and is called `mtcars.csv`. "
   ]
  },
  {
   "cell_type": "markdown",
   "metadata": {},
   "source": [
    "## Reading in the mtcars data (CSV file) from the web\n",
    "\n",
    "This is a `.csv` file, so we will use the function `read_csv()` that will read in a CSV file into a pandas DataFrame. "
   ]
  },
  {
   "cell_type": "code",
   "execution_count": 4,
   "metadata": {
    "collapsed": false
   },
   "outputs": [
    {
     "data": {
      "text/html": [
       "<div style=\"max-height:1000px;max-width:1500px;overflow:auto;\">\n",
       "<table border=\"1\" class=\"dataframe\">\n",
       "  <thead>\n",
       "    <tr style=\"text-align: right;\">\n",
       "      <th></th>\n",
       "      <th>mpg</th>\n",
       "      <th>cyl</th>\n",
       "      <th>disp</th>\n",
       "      <th>hp</th>\n",
       "      <th>drat</th>\n",
       "      <th>wt</th>\n",
       "      <th>qsec</th>\n",
       "      <th>vs</th>\n",
       "      <th>am</th>\n",
       "      <th>gear</th>\n",
       "      <th>carb</th>\n",
       "    </tr>\n",
       "  </thead>\n",
       "  <tbody>\n",
       "    <tr>\n",
       "      <th>Mazda RX4</th>\n",
       "      <td> 21.0</td>\n",
       "      <td> 6</td>\n",
       "      <td> 160</td>\n",
       "      <td> 110</td>\n",
       "      <td> 3.90</td>\n",
       "      <td> 2.620</td>\n",
       "      <td> 16.46</td>\n",
       "      <td> 0</td>\n",
       "      <td> 1</td>\n",
       "      <td> 4</td>\n",
       "      <td> 4</td>\n",
       "    </tr>\n",
       "    <tr>\n",
       "      <th>Mazda RX4 Wag</th>\n",
       "      <td> 21.0</td>\n",
       "      <td> 6</td>\n",
       "      <td> 160</td>\n",
       "      <td> 110</td>\n",
       "      <td> 3.90</td>\n",
       "      <td> 2.875</td>\n",
       "      <td> 17.02</td>\n",
       "      <td> 0</td>\n",
       "      <td> 1</td>\n",
       "      <td> 4</td>\n",
       "      <td> 4</td>\n",
       "    </tr>\n",
       "    <tr>\n",
       "      <th>Datsun 710</th>\n",
       "      <td> 22.8</td>\n",
       "      <td> 4</td>\n",
       "      <td> 108</td>\n",
       "      <td>  93</td>\n",
       "      <td> 3.85</td>\n",
       "      <td> 2.320</td>\n",
       "      <td> 18.61</td>\n",
       "      <td> 1</td>\n",
       "      <td> 1</td>\n",
       "      <td> 4</td>\n",
       "      <td> 1</td>\n",
       "    </tr>\n",
       "    <tr>\n",
       "      <th>Hornet 4 Drive</th>\n",
       "      <td> 21.4</td>\n",
       "      <td> 6</td>\n",
       "      <td> 258</td>\n",
       "      <td> 110</td>\n",
       "      <td> 3.08</td>\n",
       "      <td> 3.215</td>\n",
       "      <td> 19.44</td>\n",
       "      <td> 1</td>\n",
       "      <td> 0</td>\n",
       "      <td> 3</td>\n",
       "      <td> 1</td>\n",
       "    </tr>\n",
       "    <tr>\n",
       "      <th>Hornet Sportabout</th>\n",
       "      <td> 18.7</td>\n",
       "      <td> 8</td>\n",
       "      <td> 360</td>\n",
       "      <td> 175</td>\n",
       "      <td> 3.15</td>\n",
       "      <td> 3.440</td>\n",
       "      <td> 17.02</td>\n",
       "      <td> 0</td>\n",
       "      <td> 0</td>\n",
       "      <td> 3</td>\n",
       "      <td> 2</td>\n",
       "    </tr>\n",
       "  </tbody>\n",
       "</table>\n",
       "</div>"
      ],
      "text/plain": [
       "                    mpg  cyl  disp   hp  drat     wt   qsec  vs  am  gear  \\\n",
       "Mazda RX4          21.0    6   160  110  3.90  2.620  16.46   0   1     4   \n",
       "Mazda RX4 Wag      21.0    6   160  110  3.90  2.875  17.02   0   1     4   \n",
       "Datsun 710         22.8    4   108   93  3.85  2.320  18.61   1   1     4   \n",
       "Hornet 4 Drive     21.4    6   258  110  3.08  3.215  19.44   1   0     3   \n",
       "Hornet Sportabout  18.7    8   360  175  3.15  3.440  17.02   0   0     3   \n",
       "\n",
       "                   carb  \n",
       "Mazda RX4             4  \n",
       "Mazda RX4 Wag         4  \n",
       "Datsun 710            1  \n",
       "Hornet 4 Drive        1  \n",
       "Hornet Sportabout     2  "
      ]
     },
     "execution_count": 4,
     "metadata": {},
     "output_type": "execute_result"
    }
   ],
   "source": [
    "url = 'https://raw.githubusercontent.com/cs109/2014_data/master/mtcars.csv'\n",
    "mtcars = pd.read_csv(url, sep = ',', index_col=0)\n",
    "mtcars.head()"
   ]
  },
  {
   "cell_type": "code",
   "execution_count": 5,
   "metadata": {
    "collapsed": false
   },
   "outputs": [
    {
     "data": {
      "text/plain": [
       "(32, 11)"
      ]
     },
     "execution_count": 5,
     "metadata": {},
     "output_type": "execute_result"
    }
   ],
   "source": [
    "# DataFrame with 32 observations on 11 variables\n",
    "mtcars.shape "
   ]
  },
  {
   "cell_type": "code",
   "execution_count": 6,
   "metadata": {
    "collapsed": false
   },
   "outputs": [
    {
     "data": {
      "text/plain": [
       "Index([u'mpg', u'cyl', u'disp', u'hp', u'drat', u'wt', u'qsec', u'vs', u'am', u'gear', u'carb'], dtype='object')"
      ]
     },
     "execution_count": 6,
     "metadata": {},
     "output_type": "execute_result"
    }
   ],
   "source": [
    "# return the column names\n",
    "mtcars.columns"
   ]
  },
  {
   "cell_type": "markdown",
   "metadata": {},
   "source": [
    "Here is a table containing a description of all the column names. \n",
    "\n",
    "Column name | Description \n",
    "--- | --- \n",
    "mpg | Miles/(US) gallon\n",
    "cyl | Number of cylinders\n",
    "disp | Displacement (cu.in.)\n",
    "hp | Gross horsepower\n",
    "drat | Rear axle ratio\n",
    "wt | Weight (lb/1000)\n",
    "qsec | 1/4 mile time\n",
    "vs | V/S\n",
    "am | Transmission (0 = automatic, 1 = manual)\n",
    "gear | Number of forward gears\n",
    "carb | Number of carburetors\n"
   ]
  },
  {
   "cell_type": "code",
   "execution_count": 7,
   "metadata": {
    "collapsed": false
   },
   "outputs": [
    {
     "data": {
      "text/plain": [
       "array([[  21.   ,    6.   ,  160.   ,  110.   ,    3.9  ,    2.62 ,\n",
       "          16.46 ,    0.   ,    1.   ,    4.   ,    4.   ],\n",
       "       [  21.   ,    6.   ,  160.   ,  110.   ,    3.9  ,    2.875,\n",
       "          17.02 ,    0.   ,    1.   ,    4.   ,    4.   ],\n",
       "       [  22.8  ,    4.   ,  108.   ,   93.   ,    3.85 ,    2.32 ,\n",
       "          18.61 ,    1.   ,    1.   ,    4.   ,    1.   ],\n",
       "       [  21.4  ,    6.   ,  258.   ,  110.   ,    3.08 ,    3.215,\n",
       "          19.44 ,    1.   ,    0.   ,    3.   ,    1.   ],\n",
       "       [  18.7  ,    8.   ,  360.   ,  175.   ,    3.15 ,    3.44 ,\n",
       "          17.02 ,    0.   ,    0.   ,    3.   ,    2.   ],\n",
       "       [  18.1  ,    6.   ,  225.   ,  105.   ,    2.76 ,    3.46 ,\n",
       "          20.22 ,    1.   ,    0.   ,    3.   ,    1.   ],\n",
       "       [  14.3  ,    8.   ,  360.   ,  245.   ,    3.21 ,    3.57 ,\n",
       "          15.84 ,    0.   ,    0.   ,    3.   ,    4.   ],\n",
       "       [  24.4  ,    4.   ,  146.7  ,   62.   ,    3.69 ,    3.19 ,\n",
       "          20.   ,    1.   ,    0.   ,    4.   ,    2.   ],\n",
       "       [  22.8  ,    4.   ,  140.8  ,   95.   ,    3.92 ,    3.15 ,\n",
       "          22.9  ,    1.   ,    0.   ,    4.   ,    2.   ],\n",
       "       [  19.2  ,    6.   ,  167.6  ,  123.   ,    3.92 ,    3.44 ,\n",
       "          18.3  ,    1.   ,    0.   ,    4.   ,    4.   ],\n",
       "       [  17.8  ,    6.   ,  167.6  ,  123.   ,    3.92 ,    3.44 ,\n",
       "          18.9  ,    1.   ,    0.   ,    4.   ,    4.   ],\n",
       "       [  16.4  ,    8.   ,  275.8  ,  180.   ,    3.07 ,    4.07 ,\n",
       "          17.4  ,    0.   ,    0.   ,    3.   ,    3.   ],\n",
       "       [  17.3  ,    8.   ,  275.8  ,  180.   ,    3.07 ,    3.73 ,\n",
       "          17.6  ,    0.   ,    0.   ,    3.   ,    3.   ],\n",
       "       [  15.2  ,    8.   ,  275.8  ,  180.   ,    3.07 ,    3.78 ,\n",
       "          18.   ,    0.   ,    0.   ,    3.   ,    3.   ],\n",
       "       [  10.4  ,    8.   ,  472.   ,  205.   ,    2.93 ,    5.25 ,\n",
       "          17.98 ,    0.   ,    0.   ,    3.   ,    4.   ],\n",
       "       [  10.4  ,    8.   ,  460.   ,  215.   ,    3.   ,    5.424,\n",
       "          17.82 ,    0.   ,    0.   ,    3.   ,    4.   ],\n",
       "       [  14.7  ,    8.   ,  440.   ,  230.   ,    3.23 ,    5.345,\n",
       "          17.42 ,    0.   ,    0.   ,    3.   ,    4.   ],\n",
       "       [  32.4  ,    4.   ,   78.7  ,   66.   ,    4.08 ,    2.2  ,\n",
       "          19.47 ,    1.   ,    1.   ,    4.   ,    1.   ],\n",
       "       [  30.4  ,    4.   ,   75.7  ,   52.   ,    4.93 ,    1.615,\n",
       "          18.52 ,    1.   ,    1.   ,    4.   ,    2.   ],\n",
       "       [  33.9  ,    4.   ,   71.1  ,   65.   ,    4.22 ,    1.835,\n",
       "          19.9  ,    1.   ,    1.   ,    4.   ,    1.   ],\n",
       "       [  21.5  ,    4.   ,  120.1  ,   97.   ,    3.7  ,    2.465,\n",
       "          20.01 ,    1.   ,    0.   ,    3.   ,    1.   ],\n",
       "       [  15.5  ,    8.   ,  318.   ,  150.   ,    2.76 ,    3.52 ,\n",
       "          16.87 ,    0.   ,    0.   ,    3.   ,    2.   ],\n",
       "       [  15.2  ,    8.   ,  304.   ,  150.   ,    3.15 ,    3.435,\n",
       "          17.3  ,    0.   ,    0.   ,    3.   ,    2.   ],\n",
       "       [  13.3  ,    8.   ,  350.   ,  245.   ,    3.73 ,    3.84 ,\n",
       "          15.41 ,    0.   ,    0.   ,    3.   ,    4.   ],\n",
       "       [  19.2  ,    8.   ,  400.   ,  175.   ,    3.08 ,    3.845,\n",
       "          17.05 ,    0.   ,    0.   ,    3.   ,    2.   ],\n",
       "       [  27.3  ,    4.   ,   79.   ,   66.   ,    4.08 ,    1.935,\n",
       "          18.9  ,    1.   ,    1.   ,    4.   ,    1.   ],\n",
       "       [  26.   ,    4.   ,  120.3  ,   91.   ,    4.43 ,    2.14 ,\n",
       "          16.7  ,    0.   ,    1.   ,    5.   ,    2.   ],\n",
       "       [  30.4  ,    4.   ,   95.1  ,  113.   ,    3.77 ,    1.513,\n",
       "          16.9  ,    1.   ,    1.   ,    5.   ,    2.   ],\n",
       "       [  15.8  ,    8.   ,  351.   ,  264.   ,    4.22 ,    3.17 ,\n",
       "          14.5  ,    0.   ,    1.   ,    5.   ,    4.   ],\n",
       "       [  19.7  ,    6.   ,  145.   ,  175.   ,    3.62 ,    2.77 ,\n",
       "          15.5  ,    0.   ,    1.   ,    5.   ,    6.   ],\n",
       "       [  15.   ,    8.   ,  301.   ,  335.   ,    3.54 ,    3.57 ,\n",
       "          14.6  ,    0.   ,    1.   ,    5.   ,    8.   ],\n",
       "       [  21.4  ,    4.   ,  121.   ,  109.   ,    4.11 ,    2.78 ,\n",
       "          18.6  ,    1.   ,    1.   ,    4.   ,    2.   ]])"
      ]
     },
     "execution_count": 7,
     "metadata": {},
     "output_type": "execute_result"
    }
   ],
   "source": [
    "# return the actual data inside the panadas data frame\n",
    "mtcars.values"
   ]
  },
  {
   "cell_type": "code",
   "execution_count": 8,
   "metadata": {
    "collapsed": false
   },
   "outputs": [
    {
     "data": {
      "text/html": [
       "<div style=\"max-height:1000px;max-width:1500px;overflow:auto;\">\n",
       "<table border=\"1\" class=\"dataframe\">\n",
       "  <thead>\n",
       "    <tr style=\"text-align: right;\">\n",
       "      <th></th>\n",
       "      <th>mpg</th>\n",
       "      <th>cyl</th>\n",
       "      <th>disp</th>\n",
       "      <th>hp</th>\n",
       "      <th>drat</th>\n",
       "      <th>wt</th>\n",
       "      <th>qsec</th>\n",
       "      <th>vs</th>\n",
       "      <th>am</th>\n",
       "      <th>gear</th>\n",
       "      <th>carb</th>\n",
       "    </tr>\n",
       "  </thead>\n",
       "  <tbody>\n",
       "    <tr>\n",
       "      <th>Fiat X1-9</th>\n",
       "      <td> 27.3</td>\n",
       "      <td> 4</td>\n",
       "      <td>  79.0</td>\n",
       "      <td>  66</td>\n",
       "      <td> 4.08</td>\n",
       "      <td> 1.935</td>\n",
       "      <td> 18.9</td>\n",
       "      <td> 1</td>\n",
       "      <td> 1</td>\n",
       "      <td> 4</td>\n",
       "      <td> 1</td>\n",
       "    </tr>\n",
       "    <tr>\n",
       "      <th>Porsche 914-2</th>\n",
       "      <td> 26.0</td>\n",
       "      <td> 4</td>\n",
       "      <td> 120.3</td>\n",
       "      <td>  91</td>\n",
       "      <td> 4.43</td>\n",
       "      <td> 2.140</td>\n",
       "      <td> 16.7</td>\n",
       "      <td> 0</td>\n",
       "      <td> 1</td>\n",
       "      <td> 5</td>\n",
       "      <td> 2</td>\n",
       "    </tr>\n",
       "    <tr>\n",
       "      <th>Lotus Europa</th>\n",
       "      <td> 30.4</td>\n",
       "      <td> 4</td>\n",
       "      <td>  95.1</td>\n",
       "      <td> 113</td>\n",
       "      <td> 3.77</td>\n",
       "      <td> 1.513</td>\n",
       "      <td> 16.9</td>\n",
       "      <td> 1</td>\n",
       "      <td> 1</td>\n",
       "      <td> 5</td>\n",
       "      <td> 2</td>\n",
       "    </tr>\n",
       "    <tr>\n",
       "      <th>Ford Pantera L</th>\n",
       "      <td> 15.8</td>\n",
       "      <td> 8</td>\n",
       "      <td> 351.0</td>\n",
       "      <td> 264</td>\n",
       "      <td> 4.22</td>\n",
       "      <td> 3.170</td>\n",
       "      <td> 14.5</td>\n",
       "      <td> 0</td>\n",
       "      <td> 1</td>\n",
       "      <td> 5</td>\n",
       "      <td> 4</td>\n",
       "    </tr>\n",
       "    <tr>\n",
       "      <th>Ferrari Dino</th>\n",
       "      <td> 19.7</td>\n",
       "      <td> 6</td>\n",
       "      <td> 145.0</td>\n",
       "      <td> 175</td>\n",
       "      <td> 3.62</td>\n",
       "      <td> 2.770</td>\n",
       "      <td> 15.5</td>\n",
       "      <td> 0</td>\n",
       "      <td> 1</td>\n",
       "      <td> 5</td>\n",
       "      <td> 6</td>\n",
       "    </tr>\n",
       "    <tr>\n",
       "      <th>Maserati Bora</th>\n",
       "      <td> 15.0</td>\n",
       "      <td> 8</td>\n",
       "      <td> 301.0</td>\n",
       "      <td> 335</td>\n",
       "      <td> 3.54</td>\n",
       "      <td> 3.570</td>\n",
       "      <td> 14.6</td>\n",
       "      <td> 0</td>\n",
       "      <td> 1</td>\n",
       "      <td> 5</td>\n",
       "      <td> 8</td>\n",
       "    </tr>\n",
       "    <tr>\n",
       "      <th>Volvo 142E</th>\n",
       "      <td> 21.4</td>\n",
       "      <td> 4</td>\n",
       "      <td> 121.0</td>\n",
       "      <td> 109</td>\n",
       "      <td> 4.11</td>\n",
       "      <td> 2.780</td>\n",
       "      <td> 18.6</td>\n",
       "      <td> 1</td>\n",
       "      <td> 1</td>\n",
       "      <td> 4</td>\n",
       "      <td> 2</td>\n",
       "    </tr>\n",
       "  </tbody>\n",
       "</table>\n",
       "</div>"
      ],
      "text/plain": [
       "                 mpg  cyl   disp   hp  drat     wt  qsec  vs  am  gear  carb\n",
       "Fiat X1-9       27.3    4   79.0   66  4.08  1.935  18.9   1   1     4     1\n",
       "Porsche 914-2   26.0    4  120.3   91  4.43  2.140  16.7   0   1     5     2\n",
       "Lotus Europa    30.4    4   95.1  113  3.77  1.513  16.9   1   1     5     2\n",
       "Ford Pantera L  15.8    8  351.0  264  4.22  3.170  14.5   0   1     5     4\n",
       "Ferrari Dino    19.7    6  145.0  175  3.62  2.770  15.5   0   1     5     6\n",
       "Maserati Bora   15.0    8  301.0  335  3.54  3.570  14.6   0   1     5     8\n",
       "Volvo 142E      21.4    4  121.0  109  4.11  2.780  18.6   1   1     4     2"
      ]
     },
     "execution_count": 8,
     "metadata": {},
     "output_type": "execute_result"
    }
   ],
   "source": [
    "mtcars[25:] # rows 25 to end of data frame"
   ]
  },
  {
   "cell_type": "code",
   "execution_count": 9,
   "metadata": {
    "collapsed": false
   },
   "outputs": [
    {
     "data": {
      "text/plain": [
       "Index([u'Mazda RX4', u'Mazda RX4 Wag', u'Datsun 710', u'Hornet 4 Drive', u'Hornet Sportabout', u'Valiant', u'Duster 360', u'Merc 240D', u'Merc 230', u'Merc 280', u'Merc 280C', u'Merc 450SE', u'Merc 450SL', u'Merc 450SLC', u'Cadillac Fleetwood', u'Lincoln Continental', u'Chrysler Imperial', u'Fiat 128', u'Honda Civic', u'Toyota Corolla', u'Toyota Corona', u'Dodge Challenger', u'AMC Javelin', u'Camaro Z28', u'Pontiac Firebird', u'Fiat X1-9', u'Porsche 914-2', u'Lotus Europa', u'Ford Pantera L', u'Ferrari Dino', u'Maserati Bora', u'Volvo 142E'], dtype='object')"
      ]
     },
     "execution_count": 9,
     "metadata": {},
     "output_type": "execute_result"
    }
   ],
   "source": [
    "# return index\n",
    "mtcars.index"
   ]
  },
  {
   "cell_type": "code",
   "execution_count": 41,
   "metadata": {
    "collapsed": false
   },
   "outputs": [
    {
     "data": {
      "text/plain": [
       "mpg      15.00\n",
       "cyl       8.00\n",
       "disp    301.00\n",
       "hp      335.00\n",
       "drat      3.54\n",
       "wt        3.57\n",
       "qsec     14.60\n",
       "vs        0.00\n",
       "am        1.00\n",
       "gear      5.00\n",
       "carb      8.00\n",
       "Name: Maserati Bora, dtype: float64"
      ]
     },
     "execution_count": 41,
     "metadata": {},
     "output_type": "execute_result"
    }
   ],
   "source": [
    "mtcars.ix['Maserati Bora'] # access a row by an index"
   ]
  },
  {
   "cell_type": "code",
   "execution_count": 10,
   "metadata": {
    "collapsed": false
   },
   "outputs": [
    {
     "data": {
      "text/plain": [
       "{'float64':                       mpg   disp  drat     wt   qsec\n",
       " Mazda RX4            21.0  160.0  3.90  2.620  16.46\n",
       " Mazda RX4 Wag        21.0  160.0  3.90  2.875  17.02\n",
       " Datsun 710           22.8  108.0  3.85  2.320  18.61\n",
       " Hornet 4 Drive       21.4  258.0  3.08  3.215  19.44\n",
       " Hornet Sportabout    18.7  360.0  3.15  3.440  17.02\n",
       " Valiant              18.1  225.0  2.76  3.460  20.22\n",
       " Duster 360           14.3  360.0  3.21  3.570  15.84\n",
       " Merc 240D            24.4  146.7  3.69  3.190  20.00\n",
       " Merc 230             22.8  140.8  3.92  3.150  22.90\n",
       " Merc 280             19.2  167.6  3.92  3.440  18.30\n",
       " Merc 280C            17.8  167.6  3.92  3.440  18.90\n",
       " Merc 450SE           16.4  275.8  3.07  4.070  17.40\n",
       " Merc 450SL           17.3  275.8  3.07  3.730  17.60\n",
       " Merc 450SLC          15.2  275.8  3.07  3.780  18.00\n",
       " Cadillac Fleetwood   10.4  472.0  2.93  5.250  17.98\n",
       " Lincoln Continental  10.4  460.0  3.00  5.424  17.82\n",
       " Chrysler Imperial    14.7  440.0  3.23  5.345  17.42\n",
       " Fiat 128             32.4   78.7  4.08  2.200  19.47\n",
       " Honda Civic          30.4   75.7  4.93  1.615  18.52\n",
       " Toyota Corolla       33.9   71.1  4.22  1.835  19.90\n",
       " Toyota Corona        21.5  120.1  3.70  2.465  20.01\n",
       " Dodge Challenger     15.5  318.0  2.76  3.520  16.87\n",
       " AMC Javelin          15.2  304.0  3.15  3.435  17.30\n",
       " Camaro Z28           13.3  350.0  3.73  3.840  15.41\n",
       " Pontiac Firebird     19.2  400.0  3.08  3.845  17.05\n",
       " Fiat X1-9            27.3   79.0  4.08  1.935  18.90\n",
       " Porsche 914-2        26.0  120.3  4.43  2.140  16.70\n",
       " Lotus Europa         30.4   95.1  3.77  1.513  16.90\n",
       " Ford Pantera L       15.8  351.0  4.22  3.170  14.50\n",
       " Ferrari Dino         19.7  145.0  3.62  2.770  15.50\n",
       " Maserati Bora        15.0  301.0  3.54  3.570  14.60\n",
       " Volvo 142E           21.4  121.0  4.11  2.780  18.60,\n",
       " 'int64':                      cyl   hp  vs  am  gear  carb\n",
       " Mazda RX4              6  110   0   1     4     4\n",
       " Mazda RX4 Wag          6  110   0   1     4     4\n",
       " Datsun 710             4   93   1   1     4     1\n",
       " Hornet 4 Drive         6  110   1   0     3     1\n",
       " Hornet Sportabout      8  175   0   0     3     2\n",
       " Valiant                6  105   1   0     3     1\n",
       " Duster 360             8  245   0   0     3     4\n",
       " Merc 240D              4   62   1   0     4     2\n",
       " Merc 230               4   95   1   0     4     2\n",
       " Merc 280               6  123   1   0     4     4\n",
       " Merc 280C              6  123   1   0     4     4\n",
       " Merc 450SE             8  180   0   0     3     3\n",
       " Merc 450SL             8  180   0   0     3     3\n",
       " Merc 450SLC            8  180   0   0     3     3\n",
       " Cadillac Fleetwood     8  205   0   0     3     4\n",
       " Lincoln Continental    8  215   0   0     3     4\n",
       " Chrysler Imperial      8  230   0   0     3     4\n",
       " Fiat 128               4   66   1   1     4     1\n",
       " Honda Civic            4   52   1   1     4     2\n",
       " Toyota Corolla         4   65   1   1     4     1\n",
       " Toyota Corona          4   97   1   0     3     1\n",
       " Dodge Challenger       8  150   0   0     3     2\n",
       " AMC Javelin            8  150   0   0     3     2\n",
       " Camaro Z28             8  245   0   0     3     4\n",
       " Pontiac Firebird       8  175   0   0     3     2\n",
       " Fiat X1-9              4   66   1   1     4     1\n",
       " Porsche 914-2          4   91   0   1     5     2\n",
       " Lotus Europa           4  113   1   1     5     2\n",
       " Ford Pantera L         8  264   0   1     5     4\n",
       " Ferrari Dino           6  175   0   1     5     6\n",
       " Maserati Bora          8  335   0   1     5     8\n",
       " Volvo 142E             4  109   1   1     4     2}"
      ]
     },
     "execution_count": 10,
     "metadata": {},
     "output_type": "execute_result"
    }
   ],
   "source": [
    "# What other methods are available when working with pandas DataFrames?\n",
    "# type 'mtcars.' and then click <TAB>\n",
    "# mtcars.<TAB>\n",
    "\n",
    "# try it here\n",
    "mtcars.blocks"
   ]
  },
  {
   "cell_type": "markdown",
   "metadata": {},
   "source": [
    "## Exploratory Data Analysis (EDA)\n",
    "\n",
    "Even though they may look like continuous variabes, `cyl`, `vs`, `am`, `gear` and `carb` are integer or categorical variables. First, let's look at some summary statistics of the mtcars data set. "
   ]
  },
  {
   "cell_type": "code",
   "execution_count": 11,
   "metadata": {
    "collapsed": false
   },
   "outputs": [
    {
     "data": {
      "text/html": [
       "<div style=\"max-height:1000px;max-width:1500px;overflow:auto;\">\n",
       "<table border=\"1\" class=\"dataframe\">\n",
       "  <thead>\n",
       "    <tr style=\"text-align: right;\">\n",
       "      <th></th>\n",
       "      <th>mpg</th>\n",
       "      <th>cyl</th>\n",
       "      <th>disp</th>\n",
       "      <th>hp</th>\n",
       "      <th>drat</th>\n",
       "      <th>wt</th>\n",
       "      <th>qsec</th>\n",
       "      <th>vs</th>\n",
       "      <th>am</th>\n",
       "      <th>gear</th>\n",
       "      <th>carb</th>\n",
       "    </tr>\n",
       "  </thead>\n",
       "  <tbody>\n",
       "    <tr>\n",
       "      <th>count</th>\n",
       "      <td> 32.000000</td>\n",
       "      <td> 32.000000</td>\n",
       "      <td>  32.000000</td>\n",
       "      <td>  32.000000</td>\n",
       "      <td> 32.000000</td>\n",
       "      <td> 32.000000</td>\n",
       "      <td> 32.000000</td>\n",
       "      <td> 32.000000</td>\n",
       "      <td> 32.000000</td>\n",
       "      <td> 32.000000</td>\n",
       "      <td> 32.0000</td>\n",
       "    </tr>\n",
       "    <tr>\n",
       "      <th>mean</th>\n",
       "      <td> 20.090625</td>\n",
       "      <td>  6.187500</td>\n",
       "      <td> 230.721875</td>\n",
       "      <td> 146.687500</td>\n",
       "      <td>  3.596563</td>\n",
       "      <td>  3.217250</td>\n",
       "      <td> 17.848750</td>\n",
       "      <td>  0.437500</td>\n",
       "      <td>  0.406250</td>\n",
       "      <td>  3.687500</td>\n",
       "      <td>  2.8125</td>\n",
       "    </tr>\n",
       "    <tr>\n",
       "      <th>std</th>\n",
       "      <td>  6.026948</td>\n",
       "      <td>  1.785922</td>\n",
       "      <td> 123.938694</td>\n",
       "      <td>  68.562868</td>\n",
       "      <td>  0.534679</td>\n",
       "      <td>  0.978457</td>\n",
       "      <td>  1.786943</td>\n",
       "      <td>  0.504016</td>\n",
       "      <td>  0.498991</td>\n",
       "      <td>  0.737804</td>\n",
       "      <td>  1.6152</td>\n",
       "    </tr>\n",
       "    <tr>\n",
       "      <th>min</th>\n",
       "      <td> 10.400000</td>\n",
       "      <td>  4.000000</td>\n",
       "      <td>  71.100000</td>\n",
       "      <td>  52.000000</td>\n",
       "      <td>  2.760000</td>\n",
       "      <td>  1.513000</td>\n",
       "      <td> 14.500000</td>\n",
       "      <td>  0.000000</td>\n",
       "      <td>  0.000000</td>\n",
       "      <td>  3.000000</td>\n",
       "      <td>  1.0000</td>\n",
       "    </tr>\n",
       "    <tr>\n",
       "      <th>25%</th>\n",
       "      <td> 15.425000</td>\n",
       "      <td>  4.000000</td>\n",
       "      <td> 120.825000</td>\n",
       "      <td>  96.500000</td>\n",
       "      <td>  3.080000</td>\n",
       "      <td>  2.581250</td>\n",
       "      <td> 16.892500</td>\n",
       "      <td>  0.000000</td>\n",
       "      <td>  0.000000</td>\n",
       "      <td>  3.000000</td>\n",
       "      <td>  2.0000</td>\n",
       "    </tr>\n",
       "    <tr>\n",
       "      <th>50%</th>\n",
       "      <td> 19.200000</td>\n",
       "      <td>  6.000000</td>\n",
       "      <td> 196.300000</td>\n",
       "      <td> 123.000000</td>\n",
       "      <td>  3.695000</td>\n",
       "      <td>  3.325000</td>\n",
       "      <td> 17.710000</td>\n",
       "      <td>  0.000000</td>\n",
       "      <td>  0.000000</td>\n",
       "      <td>  4.000000</td>\n",
       "      <td>  2.0000</td>\n",
       "    </tr>\n",
       "    <tr>\n",
       "      <th>75%</th>\n",
       "      <td> 22.800000</td>\n",
       "      <td>  8.000000</td>\n",
       "      <td> 326.000000</td>\n",
       "      <td> 180.000000</td>\n",
       "      <td>  3.920000</td>\n",
       "      <td>  3.610000</td>\n",
       "      <td> 18.900000</td>\n",
       "      <td>  1.000000</td>\n",
       "      <td>  1.000000</td>\n",
       "      <td>  4.000000</td>\n",
       "      <td>  4.0000</td>\n",
       "    </tr>\n",
       "    <tr>\n",
       "      <th>max</th>\n",
       "      <td> 33.900000</td>\n",
       "      <td>  8.000000</td>\n",
       "      <td> 472.000000</td>\n",
       "      <td> 335.000000</td>\n",
       "      <td>  4.930000</td>\n",
       "      <td>  5.424000</td>\n",
       "      <td> 22.900000</td>\n",
       "      <td>  1.000000</td>\n",
       "      <td>  1.000000</td>\n",
       "      <td>  5.000000</td>\n",
       "      <td>  8.0000</td>\n",
       "    </tr>\n",
       "  </tbody>\n",
       "</table>\n",
       "</div>"
      ],
      "text/plain": [
       "             mpg        cyl        disp          hp       drat         wt  \\\n",
       "count  32.000000  32.000000   32.000000   32.000000  32.000000  32.000000   \n",
       "mean   20.090625   6.187500  230.721875  146.687500   3.596563   3.217250   \n",
       "std     6.026948   1.785922  123.938694   68.562868   0.534679   0.978457   \n",
       "min    10.400000   4.000000   71.100000   52.000000   2.760000   1.513000   \n",
       "25%    15.425000   4.000000  120.825000   96.500000   3.080000   2.581250   \n",
       "50%    19.200000   6.000000  196.300000  123.000000   3.695000   3.325000   \n",
       "75%    22.800000   8.000000  326.000000  180.000000   3.920000   3.610000   \n",
       "max    33.900000   8.000000  472.000000  335.000000   4.930000   5.424000   \n",
       "\n",
       "            qsec         vs         am       gear     carb  \n",
       "count  32.000000  32.000000  32.000000  32.000000  32.0000  \n",
       "mean   17.848750   0.437500   0.406250   3.687500   2.8125  \n",
       "std     1.786943   0.504016   0.498991   0.737804   1.6152  \n",
       "min    14.500000   0.000000   0.000000   3.000000   1.0000  \n",
       "25%    16.892500   0.000000   0.000000   3.000000   2.0000  \n",
       "50%    17.710000   0.000000   0.000000   4.000000   2.0000  \n",
       "75%    18.900000   1.000000   1.000000   4.000000   4.0000  \n",
       "max    22.900000   1.000000   1.000000   5.000000   8.0000  "
      ]
     },
     "execution_count": 11,
     "metadata": {},
     "output_type": "execute_result"
    }
   ],
   "source": [
    "mtcars.describe()"
   ]
  },
  {
   "cell_type": "markdown",
   "metadata": {},
   "source": [
    "#### Using conditional statements\n",
    "\n",
    "To check if `any` or `all` elements in an array meet a certain criteria, use `any()` and `all()`. "
   ]
  },
  {
   "cell_type": "code",
   "execution_count": 15,
   "metadata": {
    "collapsed": false
   },
   "outputs": [
    {
     "data": {
      "text/plain": [
       "False"
      ]
     },
     "execution_count": 15,
     "metadata": {},
     "output_type": "execute_result"
    }
   ],
   "source": [
    "(mtcars.mpg >= 40).any()"
   ]
  },
  {
   "cell_type": "code",
   "execution_count": 19,
   "metadata": {
    "collapsed": false
   },
   "outputs": [
    {
     "data": {
      "text/plain": [
       "mpg      True\n",
       "cyl      True\n",
       "disp     True\n",
       "hp       True\n",
       "drat     True\n",
       "wt       True\n",
       "qsec     True\n",
       "vs      False\n",
       "am      False\n",
       "gear     True\n",
       "carb     True\n",
       "dtype: bool"
      ]
     },
     "execution_count": 19,
     "metadata": {},
     "output_type": "execute_result"
    }
   ],
   "source": [
    "(mtcars > 0).all()"
   ]
  },
  {
   "cell_type": "markdown",
   "metadata": {},
   "source": [
    "Let's look at the distribution of `mpg` using a histogram."
   ]
  },
  {
   "cell_type": "code",
   "execution_count": 20,
   "metadata": {
    "collapsed": false
   },
   "outputs": [
    {
     "data": {
      "text/plain": [
       "<matplotlib.text.Text at 0x1007331d0>"
      ]
     },
     "execution_count": 20,
     "metadata": {},
     "output_type": "execute_result"
    },
    {
     "data": {
      "image/png": "[encoded data removed]",
      "text/plain": [
       "<matplotlib.figure.Figure at 0x10b1b9510>"
      ]
     },
     "metadata": {},
     "output_type": "display_data"
    }
   ],
   "source": [
    "mtcars['mpg'].hist()\n",
    "plt.title('Distribution of MPG')\n",
    "plt.xlabel('Miles Per Gallon')"
   ]
  },
  {
   "cell_type": "code",
   "execution_count": 47,
   "metadata": {
    "collapsed": false
   },
   "outputs": [
    {
     "data": {
      "text/plain": [
       "<matplotlib.text.Text at 0x10969b5d0>"
      ]
     },
     "execution_count": 47,
     "metadata": {},
     "output_type": "execute_result"
    },
    {
     "data": {
      "image/png": "[encoded data removed]",
      "text/plain": [
       "<matplotlib.figure.Figure at 0x109538710>"
      ]
     },
     "metadata": {},
     "output_type": "display_data"
    }
   ],
   "source": [
    "# Relationship between cyl and mpg\n",
    "plt.plot(mtcars.cyl, mtcars.mpg, 'o')\n",
    "plt.xlim(3, 9)\n",
    "plt.xlabel('Cylinders')\n",
    "plt.ylabel('MPG')\n",
    "plt.title('Relationship between cylinders and MPG')"
   ]
  },
  {
   "cell_type": "code",
   "execution_count": 48,
   "metadata": {
    "collapsed": false
   },
   "outputs": [
    {
     "data": {
      "text/plain": [
       "<matplotlib.text.Text at 0x1097bc150>"
      ]
     },
     "execution_count": 48,
     "metadata": {},
     "output_type": "execute_result"
    },
    {
     "data": {
      "image/png": "[encoded data removed]",
      "text/plain": [
       "<matplotlib.figure.Figure at 0x1089ff790>"
      ]
     },
     "metadata": {},
     "output_type": "display_data"
    }
   ],
   "source": [
    "# Relationship between horsepower and mpg\n",
    "plt.plot(mtcars.hp, mtcars.mpg, 'o')\n",
    "plt.xlabel('Horsepower')\n",
    "plt.ylabel('MPG')\n",
    "plt.title('Relationship between horsepower and MPG')"
   ]
  },
  {
   "cell_type": "code",
   "execution_count": 24,
   "metadata": {
    "collapsed": false
   },
   "outputs": [
    {
     "data": {
      "text/plain": [
       "array([[<matplotlib.axes._subplots.AxesSubplot object at 0x10fe4aa50>,\n",
       "        <matplotlib.axes._subplots.AxesSubplot object at 0x1102f5a50>,\n",
       "        <matplotlib.axes._subplots.AxesSubplot object at 0x110377890>],\n",
       "       [<matplotlib.axes._subplots.AxesSubplot object at 0x1103dbf10>,\n",
       "        <matplotlib.axes._subplots.AxesSubplot object at 0x11045ee10>,\n",
       "        <matplotlib.axes._subplots.AxesSubplot object at 0x1103ff410>],\n",
       "       [<matplotlib.axes._subplots.AxesSubplot object at 0x110676b50>,\n",
       "        <matplotlib.axes._subplots.AxesSubplot object at 0x1106f9890>,\n",
       "        <matplotlib.axes._subplots.AxesSubplot object at 0x11075dfd0>]], dtype=object)"
      ]
     },
     "execution_count": 24,
     "metadata": {},
     "output_type": "execute_result"
    },
    {
     "data": {
      "image/png": "[encoded data removed]",
      "text/plain": [
       "<matplotlib.figure.Figure at 0x10fd485d0>"
      ]
     },
     "metadata": {},
     "output_type": "display_data"
    }
   ],
   "source": [
    "from pandas.tools.plotting import scatter_matrix\n",
    "scatter_matrix(mtcars[['mpg', 'hp', 'cyl']], \n",
    "               figsize = (20, 10), alpha = 1, diagonal='kde')"
   ]
  },
  {
   "cell_type": "markdown",
   "metadata": {},
   "source": [
    "# Working on the command line\n",
    "\n",
    "Now we will discuss working on the command line. For this section and the next section on git and GitHub we will use slides from the [Data Science Specialization](https://github.com/DataScienceSpecialization/courses/tree/master/01_DataScientistToolbox) course on Coursera.  These slides are available from \n",
    "\n",
    "* [Command line interface](https://github.com/DataScienceSpecialization/courses/tree/master/01_DataScientistToolbox/02_03_commandLineInterface) \n"
   ]
  },
  {
   "cell_type": "markdown",
   "metadata": {},
   "source": [
    "# Introduction to git and GitHub\n",
    "\n",
    "Next we introduce git and GitHub. For this section we will also use slides from [Data Science Specialization](https://github.com/DataScienceSpecialization/courses/tree/master/01_DataScientistToolbox) course on Coursera.  These slides are available from \n",
    "\n",
    "* [Introduction to git](https://github.com/DataScienceSpecialization/courses/tree/master/01_DataScientistToolbox/02_04_01_introToGit) \n",
    "* [Github](https://github.com/DataScienceSpecialization/courses/tree/master/01_DataScientistToolbox/02_05_github)\n",
    "* [Create a new repo](https://github.com/DataScienceSpecialization/courses/tree/master/01_DataScientistToolbox/02_06_01_createNewRepo)\n",
    "* [Fork a repository](https://github.com/DataScienceSpecialization/courses/tree/master/01_DataScientistToolbox/02_06_02_forkRepo)\n",
    "* [Basic git commands](https://github.com/DataScienceSpecialization/courses/tree/master/01_DataScientistToolbox/02_07_01_basicGitCommands)\n",
    "* [git workflow](https://github.com/DataScienceSpecialization/courses/tree/master/01_DataScientistToolbox/02_07_02_gitWorkflow)\n",
    "\n",
    "Other useful resources for learning git and github: \n",
    "* [Interactive tutorial to learn git (only takes under 15 mins to complete!)](https://try.github.io/levels/1/challenges/1)\n",
    "* [Github guides](https://guides.github.com)\n",
    "* [git - the simple guide](http://rogerdudler.github.io/git-guide/)\n",
    "* [Github Youtube videos](https://www.youtube.com/user/GitHubGuides)"
   ]
  },
  {
   "cell_type": "markdown",
   "metadata": {},
   "source": [
    "# Your turn\n",
    "\n",
    "* If you don't have a github account yet, [register for a github account](https://github.com/join)\n",
    "* Use `git clone` to clone the [CS109 2014 course repository](https://github.com/cs109/2014) on Github\n",
    "* Use `git clone` to clone the [CS109 2014 data repository](https://github.com/cs109/2014_data) on Github\n",
    "\n"
   ]
  },
  {
   "cell_type": "code",
   "execution_count": null,
   "metadata": {
    "collapsed": false
   },
   "outputs": [],
   "source": []
  }
 ],
 "metadata": {
  "kernelspec": {
   "display_name": "Python 2",
   "language": "python",
   "name": "python2"
  },
  "language_info": {
   "codemirror_mode": {
    "name": "ipython",
    "version": 2
   },
   "file_extension": ".py",
   "mimetype": "text/x-python",
   "name": "python",
   "nbconvert_exporter": "python",
   "pygments_lexer": "ipython2",
   "version": "2.7.9"
  }
 },
 "nbformat": 4,
 "nbformat_minor": 0
}
